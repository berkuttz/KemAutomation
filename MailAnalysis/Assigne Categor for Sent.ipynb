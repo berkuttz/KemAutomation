{
 "cells": [
  {
   "cell_type": "code",
   "execution_count": 2,
   "metadata": {},
   "outputs": [],
   "source": [
    "import pandas as pd"
   ]
  },
  {
   "cell_type": "code",
   "execution_count": 24,
   "metadata": {},
   "outputs": [],
   "source": [
    "inbox_df = pd.read_excel(\n",
    "    r\"\\Maile Water Spain Orders.xlsm\", sheet_name=\"Inbox\")\n",
    "inbox_df = inbox_df.drop(\n",
    "    inbox_df.columns[[-1, -1, -2, -3, -4, -5, -6]], axis=1)\n",
    "sent_df = pd.read_excel(\n",
    "    r'\\Maile Water Spain Orders.xlsm', sheet_name=\"Sent Items\")\n",
    "sent_df = sent_df.drop(sent_df.columns[[-1, -2, -3, -4, -5, -6]], axis=1)"
   ]
  },
  {
   "cell_type": "code",
   "execution_count": null,
   "metadata": {},
   "outputs": [],
   "source": [
    "sent_df.head()"
   ]
  },
  {
   "cell_type": "code",
   "execution_count": 26,
   "metadata": {},
   "outputs": [],
   "source": [
    "ExcelWithTeam = pd.read_excel(r'C:\\Users\\d4an\\OneDrive - Kemira Oyj\\Desktop\\Projects\\Workload mesur\\EMailAnalysis\\IW South\\South team.xlsx')\n",
    "MyCollegues = []"
   ]
  },
  {
   "cell_type": "code",
   "execution_count": null,
   "metadata": {},
   "outputs": [],
   "source": [
    "ExcelWithTeam"
   ]
  },
  {
   "cell_type": "markdown",
   "metadata": {},
   "source": [
    "## Parse mailchain by word \"From\" and then try in first mail find name."
   ]
  },
  {
   "cell_type": "code",
   "execution_count": 28,
   "metadata": {},
   "outputs": [],
   "source": [
    "for Name in ExcelWithTeam[\"Text in mail\"]:\n",
    "    MyCollegues.append(Name.strip())\n",
    "\n",
    "MyMatch = bool\n",
    "NameList = [] #list that will be converted into the column in df\n",
    "for massage in sent_df['Body']:\n",
    "    MyMatch = False\n",
    "    massage = str(massage)\n",
    "    splitMassage = massage.split(\"From\")\n",
    "    for mail in splitMassage:\n",
    "        if not MyMatch:\n",
    "            for Name2 in MyCollegues:\n",
    "                if mail.lower().count(Name2.lower()) != 0:\n",
    "                    MyMatch = True\n",
    "                    NameList.append(Name2)\n",
    "                    break\n",
    "        else:\n",
    "            break\n",
    "    if not MyMatch:\n",
    "        NameList.append(\"Unknown\")\n",
    "    MyMatch = False\n",
    "\n",
    "sent_df['Categor'] = NameList"
   ]
  },
  {
   "cell_type": "code",
   "execution_count": 29,
   "metadata": {},
   "outputs": [],
   "source": [
    "sent_df = sent_df.drop(columns=\"Body\")"
   ]
  },
  {
   "cell_type": "code",
   "execution_count": 30,
   "metadata": {},
   "outputs": [],
   "source": [
    "sent_df2 = sent_df.assign(Recipient=sent_df['Recipient'].str.split(';')).explode('Recipient')\n",
    "\n",
    "for recipient in sent_df2.Recipient:\n",
    "    recipient2 = str(recipient).strip()\n",
    "    sent_df2['Recipient'] = sent_df2['Recipient'].replace(recipient, recipient2)\n",
    "    \n",
    "sent_df2 = sent_df2[(sent_df2.Recipient != \"\")]"
   ]
  },
  {
   "cell_type": "code",
   "execution_count": null,
   "metadata": {},
   "outputs": [],
   "source": [
    "sent_df2.head(10)"
   ]
  },
  {
   "cell_type": "code",
   "execution_count": 32,
   "metadata": {},
   "outputs": [],
   "source": [
    "writer = pd.ExcelWriter(\n",
    "    r'\\Maile Water Spain Orders temp.xlsm')"
   ]
  },
  {
   "cell_type": "code",
   "execution_count": 33,
   "metadata": {},
   "outputs": [],
   "source": [
    "inbox_df.to_excel(writer, sheet_name='Inbox',index=False)\n",
    "sent_df2.to_excel(writer, sheet_name='Sent Items', index=False)\n",
    "writer.save()"
   ]
  }
 ],
 "metadata": {
  "kernelspec": {
   "display_name": "Python 3",
   "language": "python",
   "name": "python3"
  },
  "language_info": {
   "codemirror_mode": {
    "name": "ipython",
    "version": 3
   },
   "file_extension": ".py",
   "mimetype": "text/x-python",
   "name": "python",
   "nbconvert_exporter": "python",
   "pygments_lexer": "ipython3",
   "version": "3.7.4"
  }
 },
 "nbformat": 4,
 "nbformat_minor": 4
}
